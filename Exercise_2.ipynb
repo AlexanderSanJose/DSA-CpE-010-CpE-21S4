{
  "nbformat": 4,
  "nbformat_minor": 0,
  "metadata": {
    "colab": {
      "provenance": [],
      "authorship_tag": "ABX9TyNqqOEzcDILE5PRI75eoTnW",
      "include_colab_link": true
    },
    "kernelspec": {
      "name": "python3",
      "display_name": "Python 3"
    },
    "language_info": {
      "name": "python"
    }
  },
  "cells": [
    {
      "cell_type": "markdown",
      "metadata": {
        "id": "view-in-github",
        "colab_type": "text"
      },
      "source": [
        "<a href=\"https://colab.research.google.com/github/AlexanderSanJose/DSA-CpE-010-CpE-21S4/blob/main/Exercise_2.ipynb\" target=\"_parent\"><img src=\"https://colab.research.google.com/assets/colab-badge.svg\" alt=\"Open In Colab\"/></a>"
      ]
    },
    {
      "cell_type": "code",
      "source": [
        "class Shapes():\n",
        "\n",
        "  def __init__(self, length, width, sides, base, height):\n",
        "    self.length = length\n",
        "    self.width = width\n",
        "    self.sides = sides\n",
        "    self.base = base\n",
        "    self.height = height\n",
        "\n",
        "  def Area_Rectangle(self):\n",
        "    return self.length * self.width\n",
        "\n",
        "  def Area_Square(self):\n",
        "    return self.length ** 2\n",
        "\n",
        "  def Area_Triangle(self):\n",
        "    return (self.base * self.height) / 2\n",
        "\n",
        "class Rectangle(Shapes):\n",
        "  def __init__(self, length, width):\n",
        "    self.length = length\n",
        "    self.width = width\n",
        "\n",
        "  def area(self):\n",
        "    return self.Area_Rectangle ()\n",
        "\n",
        "class Square(Shapes):\n",
        "  def __init__(self, sides):\n",
        "    self.length = sides\n",
        "\n",
        "  def area(self):\n",
        "    return self.Area_Square()\n",
        "\n",
        "class Triangle(Shapes):\n",
        "  def __init__(self, base, height):\n",
        "    self.base = base\n",
        "    self.height = height\n",
        "\n",
        "\n",
        "  def area(self):\n",
        "    return self.Area_Triangle()\n",
        "\n",
        "rect = Rectangle(100, 50)\n",
        "sq = Square(15)\n",
        "tri = Triangle(13, 4)\n",
        "\n",
        "print(\"Area of Rectangle:\", rect.Area_Rectangle())\n",
        "print(\"Area of Square:\", sq.Area_Square())\n",
        "print(\"Area of Triangle:\", tri.Area_Triangle())"
      ],
      "metadata": {
        "colab": {
          "base_uri": "https://localhost:8080/"
        },
        "id": "3u9PYQYG5-fj",
        "outputId": "aa43faae-39c7-4520-b189-cf37776787cf"
      },
      "execution_count": 15,
      "outputs": [
        {
          "output_type": "stream",
          "name": "stdout",
          "text": [
            "Area of Rectangle: 5000\n",
            "Area of Square: 225\n",
            "Area of Triangle: 26.0\n"
          ]
        }
      ]
    }
  ]
}