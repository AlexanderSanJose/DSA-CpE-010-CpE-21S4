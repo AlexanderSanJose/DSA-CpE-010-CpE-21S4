{
  "cells": [
    {
      "cell_type": "markdown",
      "metadata": {
        "id": "view-in-github",
        "colab_type": "text"
      },
      "source": [
        "<a href=\"https://colab.research.google.com/github/AlexanderSanJose/DSA-CpE-010-CpE-21S4/blob/main/Exercise_1(Class_Constructor_and_Method).ipynb\" target=\"_parent\"><img src=\"https://colab.research.google.com/assets/colab-badge.svg\" alt=\"Open In Colab\"/></a>"
      ]
    },
    {
      "cell_type": "markdown",
      "metadata": {
        "id": "bSdr7KDSnjTo"
      },
      "source": [
        "1. Develop a Python program that computes the area of a Rectangle shape.\n",
        "\n",
        "2. Use Rectangle () as a class name.\n",
        "\n",
        "3. Use attributes length and width.\n",
        "\n",
        "4. Calculate the Area() of the rectangle.\n",
        "\n",
        "5. Display the computed area of a rectangle.\n",
        "\n",
        "# **Note: OOP concepts of computing the area of a rectangle**"
      ]
    },
    {
      "cell_type": "code",
      "execution_count": 19,
      "metadata": {
        "colab": {
          "base_uri": "https://localhost:8080/"
        },
        "id": "Q3tCOxJ4oUE4",
        "outputId": "481a2b09-0706-474c-d088-044f8f64093b"
      },
      "outputs": [
        {
          "output_type": "stream",
          "name": "stdout",
          "text": [
            "Enter the length of the rectangle: 10\n",
            "Enter the width of the rectangle: 10\n",
            "The Area of the Rectangle is: 100\n"
          ]
        }
      ],
      "source": [
        "def Rectangle():\n",
        "  length = int(input(\"Enter the length of the rectangle: \"))\n",
        "  width = int(input(\"Enter the width of the rectangle: \"))\n",
        "  area = length * width\n",
        "  print(\"The Area of the Rectangle is:\", area)\n",
        "Rectangle ()"
      ]
    }
  ],
  "metadata": {
    "colab": {
      "provenance": [],
      "authorship_tag": "ABX9TyNwQx2irasQBkdPR9AeX6QX",
      "include_colab_link": true
    },
    "kernelspec": {
      "display_name": "Python 3",
      "name": "python3"
    },
    "language_info": {
      "name": "python"
    }
  },
  "nbformat": 4,
  "nbformat_minor": 0
}